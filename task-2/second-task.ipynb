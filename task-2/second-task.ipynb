{
 "cells": [
  {
   "cell_type": "markdown",
   "metadata": {},
   "source": [
    "We are to design and implement a quantum circuit that returns $|01\\rangle$ or $|10\\rangle$ with equal probability. We can only use the following gates: CX, RX and RY. In what follows we show how these gates work and then propose the circuit. The idea is to apply RY$(\\frac{\\pi}{2})$ on the first qubit, then the C-NOT from the first qubit to the second and then an RX$(\\pi)$ on the second qubit. \n",
    "\n",
    "Starting from $|0\\rangle|0\\rangle$ the first transformation is in effect\n",
    "\n",
    "$$ |0\\rangle|0\\rangle \\mapsto \\big(\\cos{\\frac{\\pi}{2}} |0\\rangle + \\sin{\\frac{\\pi}{2}} |1\\rangle\\big)|0\\rangle$$\n",
    "\n",
    "When we apply the CX (C-NOT) gate we obtain the following\n",
    "\n",
    "$$\\cos{\\frac{\\pi}{2}}|00\\rangle + \\sin{\\frac{\\pi}{2}}|11\\rangle$$\n",
    "\n",
    "The last step completes the transformation to what we needed: \n",
    "\n",
    "$$\\cos{\\frac{\\pi}{2}}|01\\rangle + \\sin{\\frac{\\pi}{2}}|10\\rangle$$\n",
    "\n",
    "Now let's see this step by step."
   ]
  },
  {
   "cell_type": "code",
   "execution_count": 1,
   "metadata": {},
   "outputs": [],
   "source": [
    "from qiskit import QuantumCircuit, execute, Aer\n",
    "from math import pi"
   ]
  },
  {
   "cell_type": "code",
   "execution_count": 2,
   "metadata": {},
   "outputs": [],
   "source": [
    "from qiskit.visualization import plot_histogram"
   ]
  },
  {
   "cell_type": "code",
   "execution_count": 3,
   "metadata": {},
   "outputs": [],
   "source": [
    "qc = QuantumCircuit(1)"
   ]
  },
  {
   "cell_type": "code",
   "execution_count": 4,
   "metadata": {},
   "outputs": [
    {
     "data": {
      "text/plain": [
       "<qiskit.circuit.instructionset.InstructionSet at 0x15167a2ed90>"
      ]
     },
     "execution_count": 4,
     "metadata": {},
     "output_type": "execute_result"
    }
   ],
   "source": [
    "qc.ry(pi/2, 0)"
   ]
  },
  {
   "cell_type": "code",
   "execution_count": 5,
   "metadata": {},
   "outputs": [
    {
     "data": {
      "text/html": [
       "<pre style=\"word-wrap: normal;white-space: pre;background: #fff0;line-height: 1.1;font-family: &quot;Courier New&quot;,Courier,monospace\">     ┌──────────┐\n",
       "q_0: ┤ RY(pi/2) ├\n",
       "     └──────────┘</pre>"
      ],
      "text/plain": [
       "     ┌──────────┐\n",
       "q_0: ┤ RY(pi/2) ├\n",
       "     └──────────┘"
      ]
     },
     "execution_count": 5,
     "metadata": {},
     "output_type": "execute_result"
    }
   ],
   "source": [
    "qc.draw()"
   ]
  },
  {
   "cell_type": "code",
   "execution_count": 6,
   "metadata": {},
   "outputs": [],
   "source": [
    "backend = Aer.get_backend('statevector_simulator')\n",
    "result = execute(qc, backend).result()"
   ]
  },
  {
   "cell_type": "code",
   "execution_count": 7,
   "metadata": {},
   "outputs": [
    {
     "name": "stdout",
     "output_type": "stream",
     "text": [
      "[0.70710678+0.j 0.70710678+0.j]\n"
     ]
    }
   ],
   "source": [
    "print( result.get_statevector() )"
   ]
  },
  {
   "cell_type": "markdown",
   "metadata": {},
   "source": [
    "So after looking at RY let's also take a look at RX then implement the circuit."
   ]
  },
  {
   "cell_type": "code",
   "execution_count": 8,
   "metadata": {},
   "outputs": [],
   "source": [
    "qc = QuantumCircuit(1)"
   ]
  },
  {
   "cell_type": "code",
   "execution_count": 9,
   "metadata": {},
   "outputs": [
    {
     "data": {
      "text/plain": [
       "<qiskit.circuit.instructionset.InstructionSet at 0x15167a2e250>"
      ]
     },
     "execution_count": 9,
     "metadata": {},
     "output_type": "execute_result"
    }
   ],
   "source": [
    "qc.rx(pi/2, 0)"
   ]
  },
  {
   "cell_type": "code",
   "execution_count": 10,
   "metadata": {},
   "outputs": [
    {
     "data": {
      "text/html": [
       "<pre style=\"word-wrap: normal;white-space: pre;background: #fff0;line-height: 1.1;font-family: &quot;Courier New&quot;,Courier,monospace\">     ┌──────────┐\n",
       "q_0: ┤ RX(pi/2) ├\n",
       "     └──────────┘</pre>"
      ],
      "text/plain": [
       "     ┌──────────┐\n",
       "q_0: ┤ RX(pi/2) ├\n",
       "     └──────────┘"
      ]
     },
     "execution_count": 10,
     "metadata": {},
     "output_type": "execute_result"
    }
   ],
   "source": [
    "qc.draw()"
   ]
  },
  {
   "cell_type": "code",
   "execution_count": 11,
   "metadata": {},
   "outputs": [],
   "source": [
    "result = execute(qc, backend).result()"
   ]
  },
  {
   "cell_type": "code",
   "execution_count": 12,
   "metadata": {},
   "outputs": [
    {
     "name": "stdout",
     "output_type": "stream",
     "text": [
      "[7.07106781e-01+0.j         4.32978028e-17-0.70710678j]\n"
     ]
    }
   ],
   "source": [
    "print( result.get_statevector() )"
   ]
  },
  {
   "cell_type": "markdown",
   "metadata": {},
   "source": [
    "This circuit has two qubits. We apply the gates as indicated at the outset."
   ]
  },
  {
   "cell_type": "code",
   "execution_count": 13,
   "metadata": {},
   "outputs": [
    {
     "data": {
      "text/html": [
       "<pre style=\"word-wrap: normal;white-space: pre;background: #fff0;line-height: 1.1;font-family: &quot;Courier New&quot;,Courier,monospace\">     ┌──────────┐               \n",
       "q_0: ┤ RY(pi/2) ├──■────────────\n",
       "     └──────────┘┌─┴─┐┌────────┐\n",
       "q_1: ────────────┤ X ├┤ RX(pi) ├\n",
       "                 └───┘└────────┘\n",
       "c_0: ═══════════════════════════\n",
       "                                \n",
       "c_1: ═══════════════════════════\n",
       "                                </pre>"
      ],
      "text/plain": [
       "     ┌──────────┐               \n",
       "q_0: ┤ RY(pi/2) ├──■────────────\n",
       "     └──────────┘┌─┴─┐┌────────┐\n",
       "q_1: ────────────┤ X ├┤ RX(pi) ├\n",
       "                 └───┘└────────┘\n",
       "c_0: ═══════════════════════════\n",
       "                                \n",
       "c_1: ═══════════════════════════\n",
       "                                "
      ]
     },
     "execution_count": 13,
     "metadata": {},
     "output_type": "execute_result"
    }
   ],
   "source": [
    "qc = QuantumCircuit(2, 2)\n",
    "qc.ry(pi/2, 0)\n",
    "qc.cx(0, 1)\n",
    "qc.rx(pi, 1)\n",
    "qc.draw()"
   ]
  },
  {
   "cell_type": "markdown",
   "metadata": {},
   "source": [
    "Let's get ready to measure our output."
   ]
  },
  {
   "cell_type": "code",
   "execution_count": 14,
   "metadata": {},
   "outputs": [
    {
     "data": {
      "text/html": [
       "<pre style=\"word-wrap: normal;white-space: pre;background: #fff0;line-height: 1.1;font-family: &quot;Courier New&quot;,Courier,monospace\">     ┌──────────┐               ┌─┐   \n",
       "q_0: ┤ RY(pi/2) ├──■────────────┤M├───\n",
       "     └──────────┘┌─┴─┐┌────────┐└╥┘┌─┐\n",
       "q_1: ────────────┤ X ├┤ RX(pi) ├─╫─┤M├\n",
       "                 └───┘└────────┘ ║ └╥┘\n",
       "c_0: ════════════════════════════╩══╬═\n",
       "                                    ║ \n",
       "c_1: ═══════════════════════════════╩═\n",
       "                                      </pre>"
      ],
      "text/plain": [
       "     ┌──────────┐               ┌─┐   \n",
       "q_0: ┤ RY(pi/2) ├──■────────────┤M├───\n",
       "     └──────────┘┌─┴─┐┌────────┐└╥┘┌─┐\n",
       "q_1: ────────────┤ X ├┤ RX(pi) ├─╫─┤M├\n",
       "                 └───┘└────────┘ ║ └╥┘\n",
       "c_0: ════════════════════════════╩══╬═\n",
       "                                    ║ \n",
       "c_1: ═══════════════════════════════╩═\n",
       "                                      "
      ]
     },
     "execution_count": 14,
     "metadata": {},
     "output_type": "execute_result"
    }
   ],
   "source": [
    "for j in range(2):\n",
    "    qc.measure(j,j)\n",
    "qc.draw()"
   ]
  },
  {
   "cell_type": "markdown",
   "metadata": {},
   "source": [
    "We now run the experiment."
   ]
  },
  {
   "cell_type": "code",
   "execution_count": 15,
   "metadata": {},
   "outputs": [
    {
     "data": {
      "image/png": "[encoded data removed]",
      "text/plain": [
       "<Figure size 504x360 with 1 Axes>"
      ]
     },
     "execution_count": 15,
     "metadata": {},
     "output_type": "execute_result"
    }
   ],
   "source": [
    "counts = execute(qc,Aer.get_backend('qasm_simulator')).result().get_counts()\n",
    "plot_histogram(counts)"
   ]
  },
  {
   "cell_type": "code",
   "execution_count": 16,
   "metadata": {},
   "outputs": [
    {
     "data": {
      "image/png": "[encoded data removed]",
      "text/plain": [
       "<Figure size 504x360 with 1 Axes>"
      ]
     },
     "execution_count": 16,
     "metadata": {},
     "output_type": "execute_result"
    }
   ],
   "source": [
    "counts = execute(qc,Aer.get_backend('qasm_simulator')).result().get_counts()\n",
    "plot_histogram(counts)"
   ]
  },
  {
   "cell_type": "code",
   "execution_count": 17,
   "metadata": {},
   "outputs": [
    {
     "data": {
      "image/png": "[encoded data removed]",
      "text/plain": [
       "<Figure size 504x360 with 1 Axes>"
      ]
     },
     "execution_count": 17,
     "metadata": {},
     "output_type": "execute_result"
    }
   ],
   "source": [
    "counts = execute(qc,Aer.get_backend('qasm_simulator')).result().get_counts()\n",
    "plot_histogram(counts)"
   ]
  },
  {
   "cell_type": "code",
   "execution_count": 18,
   "metadata": {},
   "outputs": [
    {
     "data": {
      "image/png": "[encoded data removed]",
      "text/plain": [
       "<Figure size 504x360 with 1 Axes>"
      ]
     },
     "execution_count": 18,
     "metadata": {},
     "output_type": "execute_result"
    }
   ],
   "source": [
    "counts = execute(qc,Aer.get_backend('qasm_simulator')).result().get_counts()\n",
    "plot_histogram(counts)"
   ]
  },
  {
   "cell_type": "markdown",
   "metadata": {},
   "source": [
    "This concludes our experiment. \n",
    "\n",
    "Adrian German\n",
    "\n",
    "dgerman@indiana.edu\n"
   ]
  },
  {
   "cell_type": "code",
   "execution_count": null,
   "metadata": {},
   "outputs": [],
   "source": []
  }
 ],
 "metadata": {
  "kernelspec": {
   "display_name": "onion",
   "language": "python",
   "name": "onion"
  },
  "language_info": {
   "codemirror_mode": {
    "name": "ipython",
    "version": 3
   },
   "file_extension": ".py",
   "mimetype": "text/x-python",
   "name": "python",
   "nbconvert_exporter": "python",
   "pygments_lexer": "ipython3",
   "version": "3.8.3"
  }
 },
 "nbformat": 4,
 "nbformat_minor": 4
}
